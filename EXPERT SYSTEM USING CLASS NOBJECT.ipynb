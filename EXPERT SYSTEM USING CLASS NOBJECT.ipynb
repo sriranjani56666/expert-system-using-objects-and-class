{
 "cells": [
  {
   "cell_type": "code",
   "execution_count": 6,
   "id": "f53e8378",
   "metadata": {},
   "outputs": [],
   "source": [
    "from platform import python_version"
   ]
  },
  {
   "cell_type": "code",
   "execution_count": null,
   "id": "573abc7f",
   "metadata": {},
   "outputs": [],
   "source": [
    "from experta import *"
   ]
  },
  {
   "cell_type": "code",
   "execution_count": 7,
   "id": "00c02eb4",
   "metadata": {},
   "outputs": [
    {
     "data": {
      "text/plain": [
       "'3.9.15'"
      ]
     },
     "execution_count": 7,
     "metadata": {},
     "output_type": "execute_result"
    }
   ],
   "source": [
    "python_version()"
   ]
  },
  {
   "cell_type": "code",
   "execution_count": null,
   "id": "38113669",
   "metadata": {},
   "outputs": [],
   "source": [
    "\n",
    "from experta import *\n",
    "class Greetings(KnowledgeEngine):\n",
    "    @DefFacts()\n",
    "    def _initial_action(self):\n",
    "        yield Fact(action ='greet')\n",
    "        \n",
    "    @Rule(Fact(action='greet'),\n",
    "          NOT(Fact(name=W())))\n",
    "    def ask_name(self):\n",
    "        self.declare(Fact(name=input(\"what's your name?\")))\n",
    "    \n",
    "    @Rule(Fact(action='greet'),\n",
    "          NOT(Fact(location=W())))\n",
    "    def ask_location(self):\n",
    "        self.declare(Fact(location=input(\"where are you?\")))\n",
    "        \n",
    "    @Rule(Fact(action='greet'),\n",
    "          Fact(name=MATCH.name),\n",
    "          Fact(location=MATCH.location))\n",
    "    def greet(self,name,location):\n",
    "        print(\"Hi %s! How is the weather in %s?\" % (name,location))\n",
    "        \n",
    "          \n",
    "    \n",
    "        "
   ]
  },
  {
   "cell_type": "code",
   "execution_count": 1,
   "id": "f5ed6100",
   "metadata": {},
   "outputs": [],
   "source": [
    "from experta import *"
   ]
  },
  {
   "cell_type": "code",
   "execution_count": 4,
   "id": "859c8a21",
   "metadata": {},
   "outputs": [],
   "source": [
    "class meds(KnowledgeEngine):\n",
    "    @DefFacts()\n",
    "    def _initial_action(self):\n",
    "        yield fact(action='load')\n",
    "        \n",
    "    #starting question\n",
    "    @Rule(Fact(action='load'),NOT(Fact(fulltime=W())))\n",
    "    def start_quest(self):\n",
    "        print(\"welcome to the medical expert systems.\")\n",
    "        self.declare(Fact(intro=input(\"please enter your name:\")))\n",
    "        self.declare(Fact(fulltime=input(\"Do you want to enter the medical expert system?\")))\n",
    "        \n",
    "    #not interested in entering\n",
    "    @Rule(Fact(action='load'),(Fact(fulltime='no')))\n",
    "    def exitingg(self):\n",
    "        print(\"thank you!\")\n",
    "        \n",
    "    #Rule 1: checking covid symptom #1-Fever\n",
    "    @Rule(Fact(action = 'load'),(Fact(fulltime = 'yes')))\n",
    "    def fever_check(self):\n",
    "        self.declare(Fact(Fever = input(\"Do you have fever for the last few days?\")))\n",
    "        \n",
    "    #Rule 2: checking covid system #2-dry cough\n",
    "    @Rule(Fact(action='load'),(Fact(fulltime='yes'),NOT(Fact(Fever='not sure'))))\n",
    "    def cough_check(self):\n",
    "        self.declare(Fact(cough = input(\"Do you have dry cough for the last few days?\")))\n",
    "          \n",
    "    #Rule 3: checking covid symptom #3-Tiredness\n",
    "    @Rule(Fact(action='load'),AND(Fact(fulltimee='yes'),NOT(Fact(Fever='not sure'))))\n",
    "    def tired_check(self):\n",
    "        self.declare(Fact(Tired = input(\"have you been feeling tired?\")))\n",
    "          \n",
    "    #diagnosis uptil Rule 3\n",
    "    @Rule(Fact(action='load'),AND(Fact(fulltime='yes'),AND(Fact(Fever='yes'),Fact(cough='yes'),Fact(Tired='no'))))\n",
    "    def accept_1(self):\n",
    "        print(\"you have fever,please take rest and have paractemol\")\n",
    "          \n",
    "    @Rule(Fact(action='load'),AND(Fact(fulltime='yes'),AND(Fact(Fever='no'),Fact(cough='yes'),Fact(Tired='no'))))\n",
    "    def accept_2(self):\n",
    "        print(\"you just have dry cough.please gargle,steam and have lots of hot water.\")\n",
    "          \n",
    "    @Rule(Fact(action='load'),AND(Fact(fulltime='yes'),AND(Fact(Fever='yes'),Fact(cough='yes'),Fact(Tired='yes'))))\n",
    "    def accept_3(self):\n",
    "        print(\"you are showing symptoms of COVID-19.please get yourself teasted and stay quarentined.\")\n",
    "          \n",
    "    @Rule(Fact(action='load'),AND(Fact(fulltime='yes'),AND(Fact(Fever='no'),Fact(cough='yes'),Fact(Tired='yes'))))\n",
    "    def accept_4(self):\n",
    "        print(\"pleasse visit the doctor as you may have a throat infection.\")\n",
    "          \n",
    "    @Rule(Fact(action='load'),AND(Fact(fulltime='yes'),AND(Fact(Fever='yes'),Fact(cough='no'),Fact(Tired='yes'))))\n",
    "    def accept_5(self):\n",
    "        print(\"you may be having a viral infection.take arple rest.if it presists please visit a doctor.\")\n",
    "          \n",
    "   #Enter advance expert system\n",
    "    @Rule(Fact(action='load'),AND(Fact(fulltime='yes'),OR(Fact(Fever='yes'),(Fact(Fever='no')),\n",
    "                             OR(Fact(cough='yes'),Fact(cough='no')),\n",
    "                             OR(Fact(Tired='yes'),Fact(Tired='no')))))\n",
    "    \n",
    "    def adv_expt(self):\n",
    "        print(\"you have completed the simple medical expert system?.\")\n",
    "        self.declare(Fact(dep_dive=input(\"do you want to dive deeper into the expert system?\")))\n",
    "         \n",
    "  #deciding\n",
    "    @Rule(Fact(action='load'),AND(Fact(fulltime='yes'),Fact(dep_dive='no')))\n",
    "    def div_reject(self):\n",
    "         print(\"thank you for using our expert system.\")\n",
    "         \n",
    "  #Rule 4: checking covid symptoms #4-shortness of breath\n",
    "    @Rule(Fact(action='load'),AND(Fact(fulltime='yes'),Fact(dep_dive='yes')))\n",
    "    def breath(self):\n",
    "        self.declar3e(Fact(breathing=input(\"have you been experiencing shortness of breath?\")))\n",
    "         \n",
    " #Rule 5: checking covid symptoms #5-chest pain\n",
    "    @Rule(Fact(action='load'),AND(Fact(fulltime='yes'),Fact(dep_dive='yes'),\n",
    "                           OR(Fact(breathing='yes'),Fact(breathing='no'))))\n",
    "         \n",
    " #Rule 6: checking covid symptom #6-loss of speech or movement\n",
    "    @Rule(Fact(action='load'),AND(Fact(fulltime='yes'),Fact(dep_dive='yes'),\n",
    "                           OR(Fact(breathing='yes'),Fact(breathing='no')),\n",
    "                           OR(Fact(chest='yes'),Fact(chest='no'))))\n",
    "\n",
    "    def speech_loss(self):\n",
    "        self.declare(Fact(loss=input(\"Have you been experienced any loss of speech or movement?\")))\n",
    "         \n",
    "  #diagnosis 4-6\n",
    "    @Rule(Fact(action='load'),AND(Fact(fulltime='yes'),Fact(dep_dive='yes'),Fact(breathing='yes'),\n",
    "                                Fact(loss='no'),Fact(chest='no')))\n",
    "        \n",
    "    def accept_6(self):\n",
    "        print(\"you seem to be having shortness of breath.Even if you are not COVID positive,this is serious.\")\n",
    "        print(\"go to the doctor immediately.\")\n",
    "         \n",
    "    @Rule(Fact(action='load'),AND(Fact(fulltime='yes'),Fact(dep_dive='yes'),Fact(breathing='no'),\n",
    "                                Fact(loss='yes'),Fact(chest='no')))\n",
    "         \n",
    "    def accept_7(self):\n",
    "        print(\"you seem to be having either loss of speech or movement.even if you are not COVID positive,this is serious.\")\n",
    "        print(\"go to the doctor immedialtely.\")\n",
    "         \n",
    "    @Rule(Fact(action='load'),AND(Fact(fulltime='yes'),Fact(dep_dive='yes'),Fact(breathing='no'),\n",
    "                                Fact(loss='no'),Fact(chest='yes')))\n",
    "         \n",
    "    def accept_8(self):\n",
    "        print(\"you seem to be having chest pain.even if you ar not COVID positive,this is serious.\")\n",
    "        print(\"go to the doctor immediately.\")\n",
    "          \n",
    "    @Rule(Fact(action='load'),AND(Fact(fulltime='yes'),Fact(dep_dive='yes'),Fact(breathing='no'),\n",
    "                                Fact(loss='no'),Fact(chest='yes')))\n",
    "         \n",
    "    def accept_9(self):\n",
    "        print(\"you seem to be having chest pain and shortness of breath.even if you are not COVID positive,this is serious.\")\n",
    "        print(\"go to the doctor immediately.\")\n",
    "         \n",
    "    @Rule(Fact(action='load'),AND(Fact(fulltime='yes'),Fact(dep_dive='yes'),Fact(breathing='no'),\n",
    "                                Fact(loss='yes'),Fact(chest='yes')))\n",
    "         \n",
    "    def accept_10(self):\n",
    "        print(\"you seem to be having either loss of speech or motion.even if you are not COVID positive,this is serious.\")\n",
    "        print(\"go to the doctor immediately.\")\n",
    "               \n",
    "    @Rule(Fact(action='load'),AND(Fact(fulltime='yes'),Fact(dep_dive='yes'),Fact(breathing='yes'),\n",
    "                                Fact(loss='yes'),Fact(chest='no')))        \n",
    "  \n",
    "    def accept_11(self):\n",
    "        print(\"you seem to be having chest pain and shortness of breath and loss of speech of movement.even if you are not COVID positive,this is serious.\")\n",
    "        print(\"go to the doctor immedialtely.\")\n",
    "               \n",
    "    @Rule(Fact(action='load'),AND(Fact(fulltime='yes'),Fact(dep_dive='yes'),Fact(breathing='yes'),\n",
    "                                Fact(loss='yes'),Fact(chest='yes')))  \n",
    "               \n",
    "    def accept_12(self):\n",
    "        print(\"you seem to be having chest pain ,shortness of breathing anf loss of speech or movement,even if you are not COVID positive,this is serious.\")\n",
    "        print(\"go to the doctor immediately.\")"
   ]
  },
  {
   "cell_type": "code",
   "execution_count": 5,
   "id": "79704ff8",
   "metadata": {},
   "outputs": [
    {
     "ename": "TypeError",
     "evalue": "Unknown type <class 'tuple'>",
     "output_type": "error",
     "traceback": [
      "\u001b[1;31m---------------------------------------------------------------------------\u001b[0m",
      "\u001b[1;31mTypeError\u001b[0m                                 Traceback (most recent call last)",
      "Cell \u001b[1;32mIn[5], line 1\u001b[0m\n\u001b[1;32m----> 1\u001b[0m engine \u001b[38;5;241m=\u001b[39m \u001b[43mmeds\u001b[49m\u001b[43m(\u001b[49m\u001b[43m)\u001b[49m\n\u001b[0;32m      2\u001b[0m engine\u001b[38;5;241m.\u001b[39mreset()\n\u001b[0;32m      3\u001b[0m engine\u001b[38;5;241m.\u001b[39mrun()\n",
      "File \u001b[1;32m~\\anaconda2\\envs\\sripython\\lib\\site-packages\\experta\\engine.py:42\u001b[0m, in \u001b[0;36mKnowledgeEngine.__init__\u001b[1;34m(self)\u001b[0m\n\u001b[0;32m     38\u001b[0m \u001b[38;5;28mself\u001b[39m\u001b[38;5;241m.\u001b[39magenda \u001b[38;5;241m=\u001b[39m Agenda()\n\u001b[0;32m     40\u001b[0m \u001b[38;5;28;01mif\u001b[39;00m (\u001b[38;5;28misinstance\u001b[39m(\u001b[38;5;28mself\u001b[39m\u001b[38;5;241m.\u001b[39m__matcher__, \u001b[38;5;28mtype\u001b[39m)\n\u001b[0;32m     41\u001b[0m         \u001b[38;5;129;01mand\u001b[39;00m \u001b[38;5;28missubclass\u001b[39m(\u001b[38;5;28mself\u001b[39m\u001b[38;5;241m.\u001b[39m__matcher__, abstract\u001b[38;5;241m.\u001b[39mMatcher)):\n\u001b[1;32m---> 42\u001b[0m     \u001b[38;5;28mself\u001b[39m\u001b[38;5;241m.\u001b[39mmatcher \u001b[38;5;241m=\u001b[39m \u001b[38;5;28;43mself\u001b[39;49m\u001b[38;5;241;43m.\u001b[39;49m\u001b[43m__matcher__\u001b[49m\u001b[43m(\u001b[49m\u001b[38;5;28;43mself\u001b[39;49m\u001b[43m)\u001b[49m\n\u001b[0;32m     43\u001b[0m \u001b[38;5;28;01melse\u001b[39;00m:\n\u001b[0;32m     44\u001b[0m     \u001b[38;5;28;01mraise\u001b[39;00m \u001b[38;5;167;01mTypeError\u001b[39;00m(\u001b[38;5;124m\"\u001b[39m\u001b[38;5;124m__matcher__ must be a subclass of Matcher\u001b[39m\u001b[38;5;124m\"\u001b[39m)\n",
      "File \u001b[1;32m~\\anaconda2\\envs\\sripython\\lib\\site-packages\\experta\\matchers\\rete\\__init__.py:31\u001b[0m, in \u001b[0;36mReteMatcher.__init__\u001b[1;34m(self, *args, **kwargs)\u001b[0m\n\u001b[0;32m     29\u001b[0m \u001b[38;5;28msuper\u001b[39m()\u001b[38;5;241m.\u001b[39m\u001b[38;5;21m__init__\u001b[39m(\u001b[38;5;241m*\u001b[39margs, \u001b[38;5;241m*\u001b[39m\u001b[38;5;241m*\u001b[39mkwargs)\n\u001b[0;32m     30\u001b[0m \u001b[38;5;28mself\u001b[39m\u001b[38;5;241m.\u001b[39mroot_node \u001b[38;5;241m=\u001b[39m BusNode()\n\u001b[1;32m---> 31\u001b[0m \u001b[38;5;28;43mself\u001b[39;49m\u001b[38;5;241;43m.\u001b[39;49m\u001b[43mbuild_network\u001b[49m\u001b[43m(\u001b[49m\u001b[43m)\u001b[49m\n",
      "File \u001b[1;32m~\\anaconda2\\envs\\sripython\\lib\\site-packages\\experta\\matchers\\rete\\__init__.py:72\u001b[0m, in \u001b[0;36mReteMatcher.build_network\u001b[1;34m(self)\u001b[0m\n\u001b[0;32m     70\u001b[0m ruleset \u001b[38;5;241m=\u001b[39m \u001b[38;5;28mself\u001b[39m\u001b[38;5;241m.\u001b[39mprepare_ruleset(\u001b[38;5;28mself\u001b[39m\u001b[38;5;241m.\u001b[39mengine)\n\u001b[0;32m     71\u001b[0m alpha_terminals \u001b[38;5;241m=\u001b[39m \u001b[38;5;28mself\u001b[39m\u001b[38;5;241m.\u001b[39mbuild_alpha_part(ruleset, \u001b[38;5;28mself\u001b[39m\u001b[38;5;241m.\u001b[39mroot_node)\n\u001b[1;32m---> 72\u001b[0m \u001b[38;5;28;43mself\u001b[39;49m\u001b[38;5;241;43m.\u001b[39;49m\u001b[43mbuild_beta_part\u001b[49m\u001b[43m(\u001b[49m\u001b[43mruleset\u001b[49m\u001b[43m,\u001b[49m\u001b[43m \u001b[49m\u001b[43malpha_terminals\u001b[49m\u001b[43m)\u001b[49m\n",
      "File \u001b[1;32m~\\anaconda2\\envs\\sripython\\lib\\site-packages\\experta\\matchers\\rete\\__init__.py:176\u001b[0m, in \u001b[0;36mReteMatcher.build_beta_part\u001b[1;34m(ruleset, alpha_terminals)\u001b[0m\n\u001b[0;32m    174\u001b[0m         wire_rule(rule, alpha_terminals, lhs\u001b[38;5;241m=\u001b[39msubrule)\n\u001b[0;32m    175\u001b[0m \u001b[38;5;28;01melse\u001b[39;00m:\n\u001b[1;32m--> 176\u001b[0m     \u001b[43mwire_rule\u001b[49m\u001b[43m(\u001b[49m\u001b[43mrule\u001b[49m\u001b[43m,\u001b[49m\u001b[43m \u001b[49m\u001b[43malpha_terminals\u001b[49m\u001b[43m,\u001b[49m\u001b[43m \u001b[49m\u001b[43mlhs\u001b[49m\u001b[38;5;241;43m=\u001b[39;49m\u001b[43mrule\u001b[49m\u001b[43m)\u001b[49m\n",
      "File \u001b[1;32m~\\anaconda2\\envs\\sripython\\lib\\site-packages\\experta\\matchers\\rete\\utils.py:212\u001b[0m, in \u001b[0;36mwire_rule\u001b[1;34m(rule, alpha_terminals, lhs)\u001b[0m\n\u001b[0;32m    209\u001b[0m     \u001b[38;5;28;01mreturn\u001b[39;00m alpha_terminals[elem[\u001b[38;5;241m0\u001b[39m]]\n\u001b[0;32m    211\u001b[0m \u001b[38;5;66;03m# Build beta network\u001b[39;00m\n\u001b[1;32m--> 212\u001b[0m last_node \u001b[38;5;241m=\u001b[39m \u001b[43m_wire_rule\u001b[49m\u001b[43m(\u001b[49m\u001b[43mlhs\u001b[49m\u001b[43m)\u001b[49m\n\u001b[0;32m    214\u001b[0m \u001b[38;5;66;03m# Add a new child to the last node to trigger the rule\u001b[39;00m\n\u001b[0;32m    215\u001b[0m conflict_set_node \u001b[38;5;241m=\u001b[39m ConflictSetNode(rule)\n",
      "File \u001b[1;32m~\\anaconda2\\envs\\sripython\\lib\\functools.py:888\u001b[0m, in \u001b[0;36msingledispatch.<locals>.wrapper\u001b[1;34m(*args, **kw)\u001b[0m\n\u001b[0;32m    884\u001b[0m \u001b[38;5;28;01mif\u001b[39;00m \u001b[38;5;129;01mnot\u001b[39;00m args:\n\u001b[0;32m    885\u001b[0m     \u001b[38;5;28;01mraise\u001b[39;00m \u001b[38;5;167;01mTypeError\u001b[39;00m(\u001b[38;5;124mf\u001b[39m\u001b[38;5;124m'\u001b[39m\u001b[38;5;132;01m{\u001b[39;00mfuncname\u001b[38;5;132;01m}\u001b[39;00m\u001b[38;5;124m requires at least \u001b[39m\u001b[38;5;124m'\u001b[39m\n\u001b[0;32m    886\u001b[0m                     \u001b[38;5;124m'\u001b[39m\u001b[38;5;124m1 positional argument\u001b[39m\u001b[38;5;124m'\u001b[39m)\n\u001b[1;32m--> 888\u001b[0m \u001b[38;5;28;01mreturn\u001b[39;00m dispatch(args[\u001b[38;5;241m0\u001b[39m]\u001b[38;5;241m.\u001b[39m\u001b[38;5;18m__class__\u001b[39m)(\u001b[38;5;241m*\u001b[39margs, \u001b[38;5;241m*\u001b[39m\u001b[38;5;241m*\u001b[39mkw)\n",
      "File \u001b[1;32m~\\anaconda2\\envs\\sripython\\lib\\site-packages\\experta\\matchers\\rete\\utils.py:186\u001b[0m, in \u001b[0;36mwire_rule.<locals>._\u001b[1;34m(elem)\u001b[0m\n\u001b[0;32m    184\u001b[0m     current_node \u001b[38;5;241m=\u001b[39m node_cls(SameContextCheck())\n\u001b[0;32m    185\u001b[0m     left_branch \u001b[38;5;241m=\u001b[39m _wire_rule(f)\n\u001b[1;32m--> 186\u001b[0m     right_branch \u001b[38;5;241m=\u001b[39m \u001b[43m_wire_rule\u001b[49m\u001b[43m(\u001b[49m\u001b[43ms\u001b[49m\u001b[43m)\u001b[49m\n\u001b[0;32m    187\u001b[0m \u001b[38;5;28;01melse\u001b[39;00m:\n\u001b[0;32m    188\u001b[0m     left_branch \u001b[38;5;241m=\u001b[39m current_node\n",
      "File \u001b[1;32m~\\anaconda2\\envs\\sripython\\lib\\functools.py:888\u001b[0m, in \u001b[0;36msingledispatch.<locals>.wrapper\u001b[1;34m(*args, **kw)\u001b[0m\n\u001b[0;32m    884\u001b[0m \u001b[38;5;28;01mif\u001b[39;00m \u001b[38;5;129;01mnot\u001b[39;00m args:\n\u001b[0;32m    885\u001b[0m     \u001b[38;5;28;01mraise\u001b[39;00m \u001b[38;5;167;01mTypeError\u001b[39;00m(\u001b[38;5;124mf\u001b[39m\u001b[38;5;124m'\u001b[39m\u001b[38;5;132;01m{\u001b[39;00mfuncname\u001b[38;5;132;01m}\u001b[39;00m\u001b[38;5;124m requires at least \u001b[39m\u001b[38;5;124m'\u001b[39m\n\u001b[0;32m    886\u001b[0m                     \u001b[38;5;124m'\u001b[39m\u001b[38;5;124m1 positional argument\u001b[39m\u001b[38;5;124m'\u001b[39m)\n\u001b[1;32m--> 888\u001b[0m \u001b[38;5;28;01mreturn\u001b[39;00m dispatch(args[\u001b[38;5;241m0\u001b[39m]\u001b[38;5;241m.\u001b[39m\u001b[38;5;18m__class__\u001b[39m)(\u001b[38;5;241m*\u001b[39margs, \u001b[38;5;241m*\u001b[39m\u001b[38;5;241m*\u001b[39mkw)\n",
      "File \u001b[1;32m~\\anaconda2\\envs\\sripython\\lib\\site-packages\\experta\\matchers\\rete\\utils.py:113\u001b[0m, in \u001b[0;36mwire_rule.<locals>._wire_rule\u001b[1;34m(elem)\u001b[0m\n\u001b[0;32m    111\u001b[0m \u001b[38;5;129m@singledispatch\u001b[39m\n\u001b[0;32m    112\u001b[0m \u001b[38;5;28;01mdef\u001b[39;00m \u001b[38;5;21m_wire_rule\u001b[39m(elem):\n\u001b[1;32m--> 113\u001b[0m     \u001b[38;5;28;01mraise\u001b[39;00m \u001b[38;5;167;01mTypeError\u001b[39;00m(\u001b[38;5;124m\"\u001b[39m\u001b[38;5;124mUnknown type \u001b[39m\u001b[38;5;132;01m%s\u001b[39;00m\u001b[38;5;124m\"\u001b[39m \u001b[38;5;241m%\u001b[39m \u001b[38;5;28mtype\u001b[39m(elem))\n",
      "\u001b[1;31mTypeError\u001b[0m: Unknown type <class 'tuple'>"
     ]
    }
   ],
   "source": [
    "engine = meds()\n",
    "engine.reset()\n",
    "engine.run()"
   ]
  },
  {
   "cell_type": "code",
   "execution_count": null,
   "id": "63f29fba",
   "metadata": {},
   "outputs": [],
   "source": []
  },
  {
   "cell_type": "code",
   "execution_count": null,
   "id": "cc4a98ec",
   "metadata": {},
   "outputs": [],
   "source": [
    "\n",
    "\n"
   ]
  }
 ],
 "metadata": {
  "kernelspec": {
   "display_name": "Python 3 (ipykernel)",
   "language": "python",
   "name": "python3"
  },
  "language_info": {
   "codemirror_mode": {
    "name": "ipython",
    "version": 3
   },
   "file_extension": ".py",
   "mimetype": "text/x-python",
   "name": "python",
   "nbconvert_exporter": "python",
   "pygments_lexer": "ipython3",
   "version": "3.9.15"
  }
 },
 "nbformat": 4,
 "nbformat_minor": 5
}
