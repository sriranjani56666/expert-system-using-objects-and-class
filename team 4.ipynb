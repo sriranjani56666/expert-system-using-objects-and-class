{
 "cells": [
  {
   "cell_type": "code",
   "execution_count": 1,
   "id": "e98a9022",
   "metadata": {},
   "outputs": [
    {
     "name": "stdout",
     "output_type": "stream",
     "text": [
      "Welcome to the Army Collection Form:\n",
      "Please enter your name: sriranjani\n",
      "Please enter your age: 19\n",
      "Please enter your gender: female\n",
      "Please enter your height in centimeters: 158\n",
      "Please enter your weight in kilograms: 55\n",
      "Do you have 20/20 vision? (Yes/No): yes\n",
      "Do you have any medical issues that could affect your ability to serve? (Yes/No): no\n",
      "Do you have any criminal record? (Yes/No): no\n",
      "What is your highest education level? (High School, College, Graduate School): graduate ug\n",
      "Have you previously served in the military? (Yes/No): no\n",
      "Why do you want to join the army? save my country\n",
      "Sorry, you do not meet the minimum requirements for the army.\n"
     ]
    }
   ],
   "source": [
    "print(\"Welcome to the Army Collection Form:\")\n",
    "\n",
    "name = input(\"Please enter your name: \")\n",
    "age = int(input(\"Please enter your age: \"))\n",
    "gender = input(\"Please enter your gender: \")\n",
    "height = int(input(\"Please enter your height in centimeters: \"))\n",
    "weight = int(input(\"Please enter your weight in kilograms: \"))\n",
    "vision = input(\"Do you have 20/20 vision? (Yes/No): \")\n",
    "medical_issues = input(\"Do you have any medical issues that could affect your ability to serve? (Yes/No): \")\n",
    "criminal_record = input(\"Do you have any criminal record? (Yes/No): \")\n",
    "education_level = input(\"What is your highest education level? (High School, College, Graduate School): \")\n",
    "military_service = input(\"Have you previously served in the military? (Yes/No): \")\n",
    "reason_for_joining = input(\"Why do you want to join the army? \")\n",
    "\n",
    "if age >= 18 and height >= 160 and weight >= 50 and vision == \"Yes\" and medical_issues == \"No\" and criminal_record == \"No\" and military_service == \"No\":\n",
    "    print(\"Congratulations! You meet the minimum requirements for the army.\")\n",
    "    print(\"Thank you for your interest in joining the army, \" + name + \". We will review your application and get back to you shortly.\")\n",
    "else:\n",
    "    print(\"Sorry, you do not meet the minimum requirements for the army.\")\n"
   ]
  }
 ],
 "metadata": {
  "kernelspec": {
   "display_name": "Python 3 (ipykernel)",
   "language": "python",
   "name": "python3"
  },
  "language_info": {
   "codemirror_mode": {
    "name": "ipython",
    "version": 3
   },
   "file_extension": ".py",
   "mimetype": "text/x-python",
   "name": "python",
   "nbconvert_exporter": "python",
   "pygments_lexer": "ipython3",
   "version": "3.9.13"
  }
 },
 "nbformat": 4,
 "nbformat_minor": 5
}
